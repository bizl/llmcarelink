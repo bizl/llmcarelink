{
  "nbformat": 4,
  "nbformat_minor": 0,
  "metadata": {
    "colab": {
      "provenance": [],
      "authorship_tag": "ABX9TyNds/egaalmuDGfF0kswnd7",
      "include_colab_link": true
    },
    "kernelspec": {
      "name": "python3",
      "display_name": "Python 3"
    },
    "language_info": {
      "name": "python"
    }
  },
  "cells": [
    {
      "cell_type": "markdown",
      "metadata": {
        "id": "view-in-github",
        "colab_type": "text"
      },
      "source": [
        "<a href=\"https://colab.research.google.com/github/bizl/llmcarelink/blob/main/LLMCareLink_Progress.ipynb\" target=\"_parent\"><img src=\"https://colab.research.google.com/assets/colab-badge.svg\" alt=\"Open In Colab\"/></a>"
      ]
    },
    {
      "cell_type": "markdown",
      "source": [],
      "metadata": {
        "id": "RTN302z5gSBy"
      }
    },
    {
      "cell_type": "code",
      "source": [
        "My first ever Jupyter notebook here. I'm new to Python as well. But it seems\n",
        "the Ai tool here is pretty good at predicting and cleaning up language\n",
        "\n",
        "So it's been fixing my Python"
      ],
      "metadata": {
        "id": "zrjx7ZfugQVc"
      },
      "execution_count": null,
      "outputs": []
    },
    {
      "cell_type": "code",
      "execution_count": null,
      "metadata": {
        "id": "Hse1054Ve-at",
        "colab": {
          "base_uri": "https://localhost:8080/"
        },
        "outputId": "32e4fcab-b882-49c0-f1e5-f944e399f33c"
      },
      "outputs": [
        {
          "output_type": "stream",
          "name": "stdout",
          "text": [
            "123\n"
          ]
        }
      ],
      "source": [
        "print('123')"
      ]
    },
    {
      "cell_type": "markdown",
      "source": [
        ".\n",
        "\n",
        "\n",
        "I've done lesson 8 at the moment in the Vizuara LLM course.\n",
        "\n",
        "Basically so far, steps to build the LLM\n",
        "1/ get full text, tokenise the whole thing using subword tokenisation (i.e. byte pair encoding)\n",
        "\n",
        "2/ then setup input output texts.. lesson 9, what I'm on at the moment\n",
        "\n"
      ],
      "metadata": {
        "id": "N8HN8h0LgzXK"
      }
    }
  ]
}